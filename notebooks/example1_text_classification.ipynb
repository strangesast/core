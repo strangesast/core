{
 "cells": [
  {
   "cell_type": "code",
   "execution_count": 1,
   "metadata": {},
   "outputs": [
    {
     "name": "stdout",
     "output_type": "stream",
     "text": [
      "Version:  2.4.0-dev20200712\n",
      "Eager mode:  True\n",
      "Hub version:  0.8.0\n",
      "GPU is available\n"
     ]
    }
   ],
   "source": [
    "import numpy as np\n",
    "import tensorflow as tf\n",
    "!pip install -q tensorflow-hub\n",
    "!pip install -q tfds-nightly\n",
    "import tensorflow_hub as hub\n",
    "import tensorflow_datasets as tfds\n",
    "print(\"Version: \", tf.__version__)\n",
    "print(\"Eager mode: \", tf.executing_eagerly())\n",
    "print(\"Hub version: \", hub.__version__)\n",
    "print(\"GPU is\", \"available\" if tf.config.experimental.list_physical_devices(\"GPU\") else \"NOT AVAILABLE\")"
   ]
  },
  {
   "cell_type": "code",
   "execution_count": 2,
   "metadata": {},
   "outputs": [],
   "source": [
    "train_data, validation_data, test_data = tfds.load(\n",
    "    name=\"imdb_reviews\",\n",
    "    split=('train[:60%]', 'train[60%:]', 'test'),\n",
    "    as_supervised=True)"
   ]
  },
  {
   "cell_type": "code",
   "execution_count": 3,
   "metadata": {},
   "outputs": [
    {
     "data": {
      "text/plain": [
       "<tf.Tensor: shape=(10,), dtype=int64, numpy=array([0, 0, 0, 1, 1, 1, 0, 0, 0, 0])>"
      ]
     },
     "execution_count": 3,
     "metadata": {},
     "output_type": "execute_result"
    }
   ],
   "source": [
    "train_examples_batch, train_labels_batch = next(iter(train_data.batch(10)))\n",
    "train_labels_batch"
   ]
  },
  {
   "cell_type": "code",
   "execution_count": 4,
   "metadata": {},
   "outputs": [
    {
     "data": {
      "text/plain": [
       "<tf.Tensor: shape=(3, 20), dtype=float32, numpy=\n",
       "array([[ 1.765786  , -3.882232  ,  3.9134233 , -1.5557289 , -3.3362343 ,\n",
       "        -1.7357955 , -1.9954445 ,  1.2989551 ,  5.081598  , -1.1041286 ,\n",
       "        -2.0503852 , -0.72675157, -0.65675956,  0.24436149, -3.7208383 ,\n",
       "         2.0954835 ,  2.2969332 , -2.0689783 , -2.9489717 , -1.1315987 ],\n",
       "       [ 1.8804485 , -2.5852382 ,  3.4066997 ,  1.0982676 , -4.056685  ,\n",
       "        -4.891284  , -2.785554  ,  1.3874227 ,  3.8476458 , -0.9256538 ,\n",
       "        -1.896706  ,  1.2113281 ,  0.11474707,  0.76209456, -4.8791065 ,\n",
       "         2.906149  ,  4.7087674 , -2.3652055 , -3.5015898 , -1.6390051 ],\n",
       "       [ 0.71152234, -0.6353217 ,  1.7385626 , -1.1168286 , -0.5451594 ,\n",
       "        -1.1808156 ,  0.09504455,  1.4653089 ,  0.66059524,  0.79308075,\n",
       "        -2.2268345 ,  0.07446612, -1.4075904 , -0.70645386, -1.907037  ,\n",
       "         1.4419787 ,  1.9551861 , -0.42660055, -2.8022065 ,  0.43727064]],\n",
       "      dtype=float32)>"
      ]
     },
     "execution_count": 4,
     "metadata": {},
     "output_type": "execute_result"
    }
   ],
   "source": [
    "embedding = \"https://tfhub.dev/google/tf2-preview/gnews-swivel-20dim/1\"\n",
    "hub_layer = hub.KerasLayer(embedding, input_shape=[], \n",
    "                           dtype=tf.string, trainable=True)\n",
    "hub_layer(train_examples_batch[:3])"
   ]
  },
  {
   "cell_type": "code",
   "execution_count": 5,
   "metadata": {},
   "outputs": [
    {
     "name": "stdout",
     "output_type": "stream",
     "text": [
      "Model: \"sequential\"\n",
      "_________________________________________________________________\n",
      "Layer (type)                 Output Shape              Param #   \n",
      "=================================================================\n",
      "keras_layer (KerasLayer)     (None, 20)                400020    \n",
      "_________________________________________________________________\n",
      "dense (Dense)                (None, 16)                336       \n",
      "_________________________________________________________________\n",
      "dense_1 (Dense)              (None, 1)                 17        \n",
      "=================================================================\n",
      "Total params: 400,373\n",
      "Trainable params: 400,373\n",
      "Non-trainable params: 0\n",
      "_________________________________________________________________\n"
     ]
    }
   ],
   "source": [
    "model = tf.keras.Sequential()\n",
    "model.add(hub_layer)\n",
    "model.add(tf.keras.layers.Dense(16, activation='relu'))\n",
    "model.add(tf.keras.layers.Dense(1))\n",
    "model.compile(optimizer='adam',\n",
    "              loss=tf.keras.losses.BinaryCrossentropy(from_logits=True),\n",
    "              metrics=['accuracy'])\n",
    "model.summary()"
   ]
  },
  {
   "cell_type": "code",
   "execution_count": 8,
   "metadata": {},
   "outputs": [
    {
     "name": "stdout",
     "output_type": "stream",
     "text": [
      "Epoch 1/40\n",
      "30/30 [==============================] - 1s 40ms/step - loss: 0.1518 - accuracy: 0.9444 - val_loss: 0.3087 - val_accuracy: 0.8673\n",
      "Epoch 2/40\n",
      "30/30 [==============================] - 1s 42ms/step - loss: 0.1431 - accuracy: 0.9493 - val_loss: 0.3097 - val_accuracy: 0.8681\n",
      "Epoch 3/40\n",
      "30/30 [==============================] - 1s 41ms/step - loss: 0.1347 - accuracy: 0.9533 - val_loss: 0.3117 - val_accuracy: 0.8681\n",
      "Epoch 4/40\n",
      "30/30 [==============================] - 1s 42ms/step - loss: 0.1262 - accuracy: 0.9565 - val_loss: 0.3139 - val_accuracy: 0.8685\n",
      "Epoch 5/40\n",
      "30/30 [==============================] - 1s 42ms/step - loss: 0.1182 - accuracy: 0.9599 - val_loss: 0.3165 - val_accuracy: 0.8690\n",
      "Epoch 6/40\n",
      "30/30 [==============================] - 1s 42ms/step - loss: 0.1110 - accuracy: 0.9633 - val_loss: 0.3203 - val_accuracy: 0.8690\n",
      "Epoch 7/40\n",
      "30/30 [==============================] - 1s 42ms/step - loss: 0.1040 - accuracy: 0.9667 - val_loss: 0.3280 - val_accuracy: 0.8726\n",
      "Epoch 8/40\n",
      "30/30 [==============================] - 1s 42ms/step - loss: 0.0978 - accuracy: 0.9701 - val_loss: 0.3292 - val_accuracy: 0.8719\n",
      "Epoch 9/40\n",
      "30/30 [==============================] - 1s 44ms/step - loss: 0.0912 - accuracy: 0.9736 - val_loss: 0.3324 - val_accuracy: 0.8682\n",
      "Epoch 10/40\n",
      "30/30 [==============================] - 1s 41ms/step - loss: 0.0853 - accuracy: 0.9749 - val_loss: 0.3395 - val_accuracy: 0.8706\n",
      "Epoch 11/40\n",
      "30/30 [==============================] - 1s 41ms/step - loss: 0.0799 - accuracy: 0.9779 - val_loss: 0.3432 - val_accuracy: 0.8696\n",
      "Epoch 12/40\n",
      "30/30 [==============================] - 1s 41ms/step - loss: 0.0745 - accuracy: 0.9796 - val_loss: 0.3493 - val_accuracy: 0.8692\n",
      "Epoch 13/40\n",
      "30/30 [==============================] - 1s 41ms/step - loss: 0.0695 - accuracy: 0.9825 - val_loss: 0.3548 - val_accuracy: 0.8676\n",
      "Epoch 14/40\n",
      "30/30 [==============================] - 1s 41ms/step - loss: 0.0649 - accuracy: 0.9835 - val_loss: 0.3648 - val_accuracy: 0.8699\n",
      "Epoch 15/40\n",
      "30/30 [==============================] - 1s 42ms/step - loss: 0.0604 - accuracy: 0.9857 - val_loss: 0.3715 - val_accuracy: 0.8698\n",
      "Epoch 16/40\n",
      "30/30 [==============================] - 1s 50ms/step - loss: 0.0565 - accuracy: 0.9869 - val_loss: 0.3753 - val_accuracy: 0.8662\n",
      "Epoch 17/40\n",
      "30/30 [==============================] - 1s 44ms/step - loss: 0.0529 - accuracy: 0.9887 - val_loss: 0.3823 - val_accuracy: 0.8649\n",
      "Epoch 18/40\n",
      "30/30 [==============================] - 1s 41ms/step - loss: 0.0492 - accuracy: 0.9898 - val_loss: 0.3897 - val_accuracy: 0.8659\n",
      "Epoch 19/40\n",
      "30/30 [==============================] - 1s 43ms/step - loss: 0.0452 - accuracy: 0.9915 - val_loss: 0.3975 - val_accuracy: 0.8652\n",
      "Epoch 20/40\n",
      "30/30 [==============================] - 1s 43ms/step - loss: 0.0424 - accuracy: 0.9917 - val_loss: 0.4072 - val_accuracy: 0.8657\n",
      "Epoch 21/40\n",
      "30/30 [==============================] - 1s 41ms/step - loss: 0.0394 - accuracy: 0.9931 - val_loss: 0.4126 - val_accuracy: 0.8639\n",
      "Epoch 22/40\n",
      "30/30 [==============================] - 1s 42ms/step - loss: 0.0364 - accuracy: 0.9937 - val_loss: 0.4222 - val_accuracy: 0.8645\n",
      "Epoch 23/40\n",
      "30/30 [==============================] - 1s 41ms/step - loss: 0.0338 - accuracy: 0.9951 - val_loss: 0.4285 - val_accuracy: 0.8630\n",
      "Epoch 24/40\n",
      "30/30 [==============================] - 1s 43ms/step - loss: 0.0312 - accuracy: 0.9955 - val_loss: 0.4370 - val_accuracy: 0.8626\n",
      "Epoch 25/40\n",
      "30/30 [==============================] - 1s 42ms/step - loss: 0.0290 - accuracy: 0.9959 - val_loss: 0.4446 - val_accuracy: 0.8616\n",
      "Epoch 26/40\n",
      "30/30 [==============================] - 1s 42ms/step - loss: 0.0268 - accuracy: 0.9963 - val_loss: 0.4528 - val_accuracy: 0.8619\n",
      "Epoch 27/40\n",
      "30/30 [==============================] - 1s 42ms/step - loss: 0.0251 - accuracy: 0.9969 - val_loss: 0.4610 - val_accuracy: 0.8611\n",
      "Epoch 28/40\n",
      "30/30 [==============================] - 1s 43ms/step - loss: 0.0235 - accuracy: 0.9973 - val_loss: 0.4689 - val_accuracy: 0.8609\n",
      "Epoch 29/40\n",
      "30/30 [==============================] - 1s 41ms/step - loss: 0.0216 - accuracy: 0.9974 - val_loss: 0.4827 - val_accuracy: 0.8623\n",
      "Epoch 30/40\n",
      "30/30 [==============================] - 1s 43ms/step - loss: 0.0199 - accuracy: 0.9982 - val_loss: 0.4888 - val_accuracy: 0.8618\n",
      "Epoch 31/40\n",
      "30/30 [==============================] - 1s 40ms/step - loss: 0.0186 - accuracy: 0.9985 - val_loss: 0.4948 - val_accuracy: 0.8604\n",
      "Epoch 32/40\n",
      "30/30 [==============================] - 1s 41ms/step - loss: 0.0171 - accuracy: 0.9991 - val_loss: 0.5017 - val_accuracy: 0.8593\n",
      "Epoch 33/40\n",
      "30/30 [==============================] - 1s 41ms/step - loss: 0.0160 - accuracy: 0.9991 - val_loss: 0.5103 - val_accuracy: 0.8600\n",
      "Epoch 34/40\n",
      "30/30 [==============================] - 1s 41ms/step - loss: 0.0149 - accuracy: 0.9992 - val_loss: 0.5177 - val_accuracy: 0.8595\n",
      "Epoch 35/40\n",
      "30/30 [==============================] - 1s 42ms/step - loss: 0.0139 - accuracy: 0.9996 - val_loss: 0.5256 - val_accuracy: 0.8594\n",
      "Epoch 36/40\n",
      "30/30 [==============================] - 1s 42ms/step - loss: 0.0129 - accuracy: 0.9997 - val_loss: 0.5336 - val_accuracy: 0.8590\n",
      "Epoch 37/40\n",
      "30/30 [==============================] - 1s 45ms/step - loss: 0.0121 - accuracy: 0.9997 - val_loss: 0.5410 - val_accuracy: 0.8588\n",
      "Epoch 38/40\n",
      "30/30 [==============================] - 1s 42ms/step - loss: 0.0113 - accuracy: 0.9997 - val_loss: 0.5485 - val_accuracy: 0.8587\n",
      "Epoch 39/40\n",
      "30/30 [==============================] - 1s 40ms/step - loss: 0.0106 - accuracy: 0.9997 - val_loss: 0.5580 - val_accuracy: 0.8576\n",
      "Epoch 40/40\n",
      "30/30 [==============================] - 1s 43ms/step - loss: 0.0099 - accuracy: 0.9997 - val_loss: 0.5662 - val_accuracy: 0.8571\n"
     ]
    }
   ],
   "source": [
    "history = model.fit(train_data.shuffle(10000).batch(512),\n",
    "                    epochs=40,\n",
    "                    validation_data=validation_data.batch(512),\n",
    "                    verbose=1)"
   ]
  },
  {
   "cell_type": "code",
   "execution_count": 10,
   "metadata": {},
   "outputs": [
    {
     "name": "stdout",
     "output_type": "stream",
     "text": [
      "49/49 - 1s - loss: 0.6296 - accuracy: 0.8428\n",
      "loss: 0.630\n",
      "accuracy: 0.843\n"
     ]
    }
   ],
   "source": [
    "results = model.evaluate(test_data.batch(512), verbose=2)\n",
    "\n",
    "for name, value in zip(model.metrics_names, results):\n",
    "  print(\"%s: %.3f\" % (name, value))"
   ]
  },
  {
   "cell_type": "code",
   "execution_count": null,
   "metadata": {},
   "outputs": [],
   "source": []
  }
 ],
 "metadata": {
  "kernelspec": {
   "display_name": "Python 3",
   "language": "python",
   "name": "python3"
  },
  "language_info": {
   "codemirror_mode": {
    "name": "ipython",
    "version": 3
   },
   "file_extension": ".py",
   "mimetype": "text/x-python",
   "name": "python",
   "nbconvert_exporter": "python",
   "pygments_lexer": "ipython3",
   "version": "3.6.9"
  }
 },
 "nbformat": 4,
 "nbformat_minor": 2
}
