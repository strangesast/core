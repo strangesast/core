{
 "cells": [
  {
   "cell_type": "code",
   "execution_count": 1,
   "metadata": {},
   "outputs": [
    {
     "name": "stdout",
     "output_type": "stream",
     "text": [
      "Version:  2.3.0-rc1\n",
      "Eager mode:  True\n",
      "Hub version:  0.8.0\n",
      "GPU is NOT AVAILABLE\n"
     ]
    }
   ],
   "source": [
    "import numpy as np\n",
    "import tensorflow as tf\n",
    "!pip install -q tensorflow-hub\n",
    "!pip install -q tfds-nightly\n",
    "import tensorflow_hub as hub\n",
    "import tensorflow_datasets as tfds\n",
    "print(\"Version: \", tf.__version__)\n",
    "print(\"Eager mode: \", tf.executing_eagerly())\n",
    "print(\"Hub version: \", hub.__version__)\n",
    "print(\"GPU is\", \"available\" if tf.config.experimental.list_physical_devices(\"GPU\") else \"NOT AVAILABLE\")"
   ]
  },
  {
   "cell_type": "code",
   "execution_count": 2,
   "metadata": {},
   "outputs": [
    {
     "name": "stdout",
     "output_type": "stream",
     "text": [
      "\u001b[1mDownloading and preparing dataset imdb_reviews/plain_text/1.0.0 (download: 80.23 MiB, generated: Unknown size, total: 80.23 MiB) to /root/tensorflow_datasets/imdb_reviews/plain_text/1.0.0...\u001b[0m\n"
     ]
    },
    {
     "data": {
      "application/vnd.jupyter.widget-view+json": {
       "model_id": "62bace44226d425fa9a21b97f86296d9",
       "version_major": 2,
       "version_minor": 0
      },
      "text/plain": [
       "HBox(children=(FloatProgress(value=1.0, bar_style='info', description='Dl Completed...', max=1.0, style=Progre…"
      ]
     },
     "metadata": {},
     "output_type": "display_data"
    },
    {
     "data": {
      "application/vnd.jupyter.widget-view+json": {
       "model_id": "bbea5bf1703f424398c9371c139dd7f6",
       "version_major": 2,
       "version_minor": 0
      },
      "text/plain": [
       "HBox(children=(FloatProgress(value=1.0, bar_style='info', description='Dl Size...', max=1.0, style=ProgressSty…"
      ]
     },
     "metadata": {},
     "output_type": "display_data"
    },
    {
     "name": "stdout",
     "output_type": "stream",
     "text": [
      "\n",
      "\n",
      "\n",
      "\n"
     ]
    },
    {
     "data": {
      "application/vnd.jupyter.widget-view+json": {
       "model_id": "",
       "version_major": 2,
       "version_minor": 0
      },
      "text/plain": [
       "HBox(children=(FloatProgress(value=1.0, bar_style='info', max=1.0), HTML(value='')))"
      ]
     },
     "metadata": {},
     "output_type": "display_data"
    },
    {
     "name": "stdout",
     "output_type": "stream",
     "text": [
      "Shuffling and writing examples to /root/tensorflow_datasets/imdb_reviews/plain_text/1.0.0.incompleteGBRYFH/imdb_reviews-train.tfrecord\n"
     ]
    },
    {
     "data": {
      "application/vnd.jupyter.widget-view+json": {
       "model_id": "57baa591830440058831c342e34d80fe",
       "version_major": 2,
       "version_minor": 0
      },
      "text/plain": [
       "HBox(children=(FloatProgress(value=0.0, max=25000.0), HTML(value='')))"
      ]
     },
     "metadata": {},
     "output_type": "display_data"
    },
    {
     "data": {
      "application/vnd.jupyter.widget-view+json": {
       "model_id": "",
       "version_major": 2,
       "version_minor": 0
      },
      "text/plain": [
       "HBox(children=(FloatProgress(value=1.0, bar_style='info', max=1.0), HTML(value='')))"
      ]
     },
     "metadata": {},
     "output_type": "display_data"
    },
    {
     "name": "stdout",
     "output_type": "stream",
     "text": [
      "Shuffling and writing examples to /root/tensorflow_datasets/imdb_reviews/plain_text/1.0.0.incompleteGBRYFH/imdb_reviews-test.tfrecord\n"
     ]
    },
    {
     "data": {
      "application/vnd.jupyter.widget-view+json": {
       "model_id": "79e9a58fed1c48b58e3dbf579caa815b",
       "version_major": 2,
       "version_minor": 0
      },
      "text/plain": [
       "HBox(children=(FloatProgress(value=0.0, max=25000.0), HTML(value='')))"
      ]
     },
     "metadata": {},
     "output_type": "display_data"
    },
    {
     "data": {
      "application/vnd.jupyter.widget-view+json": {
       "model_id": "",
       "version_major": 2,
       "version_minor": 0
      },
      "text/plain": [
       "HBox(children=(FloatProgress(value=1.0, bar_style='info', max=1.0), HTML(value='')))"
      ]
     },
     "metadata": {},
     "output_type": "display_data"
    },
    {
     "name": "stdout",
     "output_type": "stream",
     "text": [
      "Shuffling and writing examples to /root/tensorflow_datasets/imdb_reviews/plain_text/1.0.0.incompleteGBRYFH/imdb_reviews-unsupervised.tfrecord\n"
     ]
    },
    {
     "data": {
      "application/vnd.jupyter.widget-view+json": {
       "model_id": "f7e4312345e14ad79e31b9de4a4fab4e",
       "version_major": 2,
       "version_minor": 0
      },
      "text/plain": [
       "HBox(children=(FloatProgress(value=0.0, max=50000.0), HTML(value='')))"
      ]
     },
     "metadata": {},
     "output_type": "display_data"
    },
    {
     "name": "stdout",
     "output_type": "stream",
     "text": [
      "\u001b[1mDataset imdb_reviews downloaded and prepared to /root/tensorflow_datasets/imdb_reviews/plain_text/1.0.0. Subsequent calls will reuse this data.\u001b[0m\n"
     ]
    }
   ],
   "source": [
    "train_data, validation_data, test_data = tfds.load(\n",
    "    name=\"imdb_reviews\",\n",
    "    split=('train[:60%]', 'train[60%:]', 'test'),\n",
    "    as_supervised=True)"
   ]
  },
  {
   "cell_type": "code",
   "execution_count": 3,
   "metadata": {},
   "outputs": [
    {
     "data": {
      "text/plain": [
       "<tf.Tensor: shape=(10,), dtype=int64, numpy=array([0, 0, 0, 1, 1, 1, 0, 0, 0, 0])>"
      ]
     },
     "execution_count": 3,
     "metadata": {},
     "output_type": "execute_result"
    }
   ],
   "source": [
    "train_examples_batch, train_labels_batch = next(iter(train_data.batch(10)))\n",
    "train_labels_batch"
   ]
  },
  {
   "cell_type": "code",
   "execution_count": 4,
   "metadata": {},
   "outputs": [
    {
     "data": {
      "text/plain": [
       "<tf.Tensor: shape=(3, 20), dtype=float32, numpy=\n",
       "array([[ 1.765786  , -3.882232  ,  3.9134233 , -1.5557289 , -3.3362343 ,\n",
       "        -1.7357955 , -1.9954445 ,  1.2989551 ,  5.081598  , -1.1041286 ,\n",
       "        -2.0503852 , -0.72675157, -0.65675956,  0.24436149, -3.7208383 ,\n",
       "         2.0954835 ,  2.2969332 , -2.0689783 , -2.9489717 , -1.1315987 ],\n",
       "       [ 1.8804485 , -2.5852382 ,  3.4066997 ,  1.0982676 , -4.056685  ,\n",
       "        -4.891284  , -2.785554  ,  1.3874227 ,  3.8476458 , -0.9256538 ,\n",
       "        -1.896706  ,  1.2113281 ,  0.11474707,  0.76209456, -4.8791065 ,\n",
       "         2.906149  ,  4.7087674 , -2.3652055 , -3.5015898 , -1.6390051 ],\n",
       "       [ 0.71152234, -0.6353217 ,  1.7385626 , -1.1168286 , -0.5451594 ,\n",
       "        -1.1808156 ,  0.09504455,  1.4653089 ,  0.66059524,  0.79308075,\n",
       "        -2.2268345 ,  0.07446612, -1.4075904 , -0.70645386, -1.907037  ,\n",
       "         1.4419787 ,  1.9551861 , -0.42660055, -2.8022065 ,  0.43727064]],\n",
       "      dtype=float32)>"
      ]
     },
     "execution_count": 4,
     "metadata": {},
     "output_type": "execute_result"
    }
   ],
   "source": [
    "embedding = \"https://tfhub.dev/google/tf2-preview/gnews-swivel-20dim/1\"\n",
    "hub_layer = hub.KerasLayer(embedding, input_shape=[], \n",
    "                           dtype=tf.string, trainable=True)\n",
    "hub_layer(train_examples_batch[:3])"
   ]
  },
  {
   "cell_type": "code",
   "execution_count": 5,
   "metadata": {},
   "outputs": [
    {
     "name": "stdout",
     "output_type": "stream",
     "text": [
      "Model: \"sequential\"\n",
      "_________________________________________________________________\n",
      "Layer (type)                 Output Shape              Param #   \n",
      "=================================================================\n",
      "keras_layer (KerasLayer)     (None, 20)                400020    \n",
      "_________________________________________________________________\n",
      "dense (Dense)                (None, 16)                336       \n",
      "_________________________________________________________________\n",
      "dense_1 (Dense)              (None, 1)                 17        \n",
      "=================================================================\n",
      "Total params: 400,373\n",
      "Trainable params: 400,373\n",
      "Non-trainable params: 0\n",
      "_________________________________________________________________\n"
     ]
    }
   ],
   "source": [
    "model = tf.keras.Sequential()\n",
    "model.add(hub_layer)\n",
    "model.add(tf.keras.layers.Dense(16, activation='relu'))\n",
    "model.add(tf.keras.layers.Dense(1))\n",
    "model.compile(optimizer='adam',\n",
    "              loss=tf.keras.losses.BinaryCrossentropy(from_logits=True),\n",
    "              metrics=['accuracy'])\n",
    "model.summary()"
   ]
  },
  {
   "cell_type": "code",
   "execution_count": 6,
   "metadata": {},
   "outputs": [
    {
     "name": "stdout",
     "output_type": "stream",
     "text": [
      "Epoch 1/40\n",
      "30/30 [==============================] - 2s 69ms/step - loss: 0.8114 - accuracy: 0.5314 - val_loss: 0.7005 - val_accuracy: 0.5900\n",
      "Epoch 2/40\n",
      "30/30 [==============================] - 2s 65ms/step - loss: 0.6529 - accuracy: 0.6184 - val_loss: 0.6109 - val_accuracy: 0.6569\n",
      "Epoch 3/40\n",
      "30/30 [==============================] - 2s 65ms/step - loss: 0.5822 - accuracy: 0.6755 - val_loss: 0.5630 - val_accuracy: 0.7008\n",
      "Epoch 4/40\n",
      "30/30 [==============================] - 2s 64ms/step - loss: 0.5380 - accuracy: 0.7085 - val_loss: 0.5283 - val_accuracy: 0.7133\n",
      "Epoch 5/40\n",
      "30/30 [==============================] - 2s 64ms/step - loss: 0.5013 - accuracy: 0.7401 - val_loss: 0.4986 - val_accuracy: 0.7448\n",
      "Epoch 6/40\n",
      "30/30 [==============================] - 2s 64ms/step - loss: 0.4662 - accuracy: 0.7687 - val_loss: 0.4696 - val_accuracy: 0.7545\n",
      "Epoch 7/40\n",
      "30/30 [==============================] - 2s 65ms/step - loss: 0.4323 - accuracy: 0.7932 - val_loss: 0.4421 - val_accuracy: 0.7772\n",
      "Epoch 8/40\n",
      "30/30 [==============================] - 2s 65ms/step - loss: 0.4001 - accuracy: 0.8157 - val_loss: 0.4170 - val_accuracy: 0.7890\n",
      "Epoch 9/40\n",
      "30/30 [==============================] - 2s 65ms/step - loss: 0.3690 - accuracy: 0.8344 - val_loss: 0.3926 - val_accuracy: 0.8193\n",
      "Epoch 10/40\n",
      "30/30 [==============================] - 2s 63ms/step - loss: 0.3397 - accuracy: 0.8524 - val_loss: 0.3733 - val_accuracy: 0.8207\n",
      "Epoch 11/40\n",
      "30/30 [==============================] - 2s 64ms/step - loss: 0.3129 - accuracy: 0.8665 - val_loss: 0.3563 - val_accuracy: 0.8288\n",
      "Epoch 12/40\n",
      "30/30 [==============================] - 2s 64ms/step - loss: 0.2874 - accuracy: 0.8803 - val_loss: 0.3409 - val_accuracy: 0.8463\n",
      "Epoch 13/40\n",
      "30/30 [==============================] - 2s 66ms/step - loss: 0.2624 - accuracy: 0.8947 - val_loss: 0.3274 - val_accuracy: 0.8498\n",
      "Epoch 14/40\n",
      "30/30 [==============================] - 2s 65ms/step - loss: 0.2408 - accuracy: 0.9062 - val_loss: 0.3180 - val_accuracy: 0.8569\n",
      "Epoch 15/40\n",
      "30/30 [==============================] - 2s 63ms/step - loss: 0.2216 - accuracy: 0.9148 - val_loss: 0.3113 - val_accuracy: 0.8599\n",
      "Epoch 16/40\n",
      "30/30 [==============================] - 2s 63ms/step - loss: 0.2054 - accuracy: 0.9217 - val_loss: 0.3072 - val_accuracy: 0.8646\n",
      "Epoch 17/40\n",
      "30/30 [==============================] - 2s 64ms/step - loss: 0.1902 - accuracy: 0.9297 - val_loss: 0.3050 - val_accuracy: 0.8676\n",
      "Epoch 18/40\n",
      "30/30 [==============================] - 2s 64ms/step - loss: 0.1759 - accuracy: 0.9369 - val_loss: 0.3013 - val_accuracy: 0.8666\n",
      "Epoch 19/40\n",
      "30/30 [==============================] - 2s 65ms/step - loss: 0.1646 - accuracy: 0.9426 - val_loss: 0.3010 - val_accuracy: 0.8704\n",
      "Epoch 20/40\n",
      "30/30 [==============================] - 2s 66ms/step - loss: 0.1533 - accuracy: 0.9463 - val_loss: 0.3027 - val_accuracy: 0.8631\n",
      "Epoch 21/40\n",
      "30/30 [==============================] - 2s 65ms/step - loss: 0.1428 - accuracy: 0.9515 - val_loss: 0.3016 - val_accuracy: 0.8682\n",
      "Epoch 22/40\n",
      "30/30 [==============================] - 2s 65ms/step - loss: 0.1332 - accuracy: 0.9568 - val_loss: 0.3031 - val_accuracy: 0.8699\n",
      "Epoch 23/40\n",
      "30/30 [==============================] - 2s 64ms/step - loss: 0.1239 - accuracy: 0.9598 - val_loss: 0.3058 - val_accuracy: 0.8705\n",
      "Epoch 24/40\n",
      "30/30 [==============================] - 2s 63ms/step - loss: 0.1157 - accuracy: 0.9639 - val_loss: 0.3089 - val_accuracy: 0.8696\n",
      "Epoch 25/40\n",
      "30/30 [==============================] - 2s 62ms/step - loss: 0.1080 - accuracy: 0.9671 - val_loss: 0.3131 - val_accuracy: 0.8707\n",
      "Epoch 26/40\n",
      "30/30 [==============================] - 2s 63ms/step - loss: 0.1007 - accuracy: 0.9698 - val_loss: 0.3170 - val_accuracy: 0.8710\n",
      "Epoch 27/40\n",
      "30/30 [==============================] - 2s 63ms/step - loss: 0.0942 - accuracy: 0.9725 - val_loss: 0.3222 - val_accuracy: 0.8713\n",
      "Epoch 28/40\n",
      "30/30 [==============================] - 2s 64ms/step - loss: 0.0881 - accuracy: 0.9748 - val_loss: 0.3272 - val_accuracy: 0.8660\n",
      "Epoch 29/40\n",
      "30/30 [==============================] - 2s 65ms/step - loss: 0.0822 - accuracy: 0.9771 - val_loss: 0.3340 - val_accuracy: 0.8696\n",
      "Epoch 30/40\n",
      "30/30 [==============================] - 2s 65ms/step - loss: 0.0775 - accuracy: 0.9800 - val_loss: 0.3371 - val_accuracy: 0.8692\n",
      "Epoch 31/40\n",
      "30/30 [==============================] - 2s 66ms/step - loss: 0.0716 - accuracy: 0.9815 - val_loss: 0.3432 - val_accuracy: 0.8684\n",
      "Epoch 32/40\n",
      "30/30 [==============================] - 2s 63ms/step - loss: 0.0664 - accuracy: 0.9848 - val_loss: 0.3492 - val_accuracy: 0.8679\n",
      "Epoch 33/40\n",
      "30/30 [==============================] - 2s 64ms/step - loss: 0.0618 - accuracy: 0.9858 - val_loss: 0.3560 - val_accuracy: 0.8668\n",
      "Epoch 34/40\n",
      "30/30 [==============================] - 2s 64ms/step - loss: 0.0578 - accuracy: 0.9874 - val_loss: 0.3627 - val_accuracy: 0.8665\n",
      "Epoch 35/40\n",
      "30/30 [==============================] - 2s 64ms/step - loss: 0.0540 - accuracy: 0.9893 - val_loss: 0.3692 - val_accuracy: 0.8661\n",
      "Epoch 36/40\n",
      "30/30 [==============================] - 2s 63ms/step - loss: 0.0497 - accuracy: 0.9901 - val_loss: 0.3765 - val_accuracy: 0.8657\n",
      "Epoch 37/40\n",
      "30/30 [==============================] - 2s 65ms/step - loss: 0.0463 - accuracy: 0.9913 - val_loss: 0.3854 - val_accuracy: 0.8642\n",
      "Epoch 38/40\n",
      "30/30 [==============================] - 2s 63ms/step - loss: 0.0433 - accuracy: 0.9919 - val_loss: 0.3921 - val_accuracy: 0.8644\n",
      "Epoch 39/40\n",
      "30/30 [==============================] - 2s 65ms/step - loss: 0.0404 - accuracy: 0.9929 - val_loss: 0.4010 - val_accuracy: 0.8652\n",
      "Epoch 40/40\n",
      "30/30 [==============================] - 2s 64ms/step - loss: 0.0372 - accuracy: 0.9938 - val_loss: 0.4109 - val_accuracy: 0.8635\n"
     ]
    }
   ],
   "source": [
    "history = model.fit(train_data.shuffle(10000).batch(512),\n",
    "                    epochs=40,\n",
    "                    validation_data=validation_data.batch(512),\n",
    "                    verbose=1)"
   ]
  },
  {
   "cell_type": "code",
   "execution_count": 7,
   "metadata": {},
   "outputs": [
    {
     "name": "stdout",
     "output_type": "stream",
     "text": [
      "49/49 - 1s - loss: 0.4461 - accuracy: 0.8514\n",
      "loss: 0.446\n",
      "accuracy: 0.851\n"
     ]
    }
   ],
   "source": [
    "results = model.evaluate(test_data.batch(512), verbose=2)\n",
    "\n",
    "for name, value in zip(model.metrics_names, results):\n",
    "  print(\"%s: %.3f\" % (name, value))"
   ]
  },
  {
   "cell_type": "code",
   "execution_count": null,
   "metadata": {},
   "outputs": [],
   "source": []
  }
 ],
 "metadata": {
  "kernelspec": {
   "display_name": "Python 3",
   "language": "python",
   "name": "python3"
  },
  "language_info": {
   "codemirror_mode": {
    "name": "ipython",
    "version": 3
   },
   "file_extension": ".py",
   "mimetype": "text/x-python",
   "name": "python",
   "nbconvert_exporter": "python",
   "pygments_lexer": "ipython3",
   "version": "3.6.9"
  }
 },
 "nbformat": 4,
 "nbformat_minor": 2
}
